{
 "cells": [
  {
   "cell_type": "code",
   "execution_count": 2,
   "id": "d06940c0",
   "metadata": {},
   "outputs": [
    {
     "data": {
      "text/plain": [
       "'\\nTASKS: \\n1. write a function which will try to find out len of a string without using an inbuilt len function \\n2. write a function which  will be able to print an index of list element without using an index function\\n3. write a function which will be able to print an ip address of your system\\n4. write a function which will shutdown your system\\n5. write a function which will take input as a list with any kind of numeric value and give an out as a multiplication of \\nall the numeric data l = [3.5, 6.56, 4,5,\"sudh\" , \"ineuron\" , \\'fsda bootcamp 2.0\\']\\n6. write a function which will be able to read all the mails \\n7 . write a function which will be able to send a mail to anyone \\n8. write a function which will be able to read a doc/word file from your system \\n\\nyou are suppose to complete this by oct 30th before your \\nlive class and you have to send a solution at mail id - query@ineuron.ai\\nsubmit your git link to mail \\n'"
      ]
     },
     "execution_count": 2,
     "metadata": {},
     "output_type": "execute_result"
    }
   ],
   "source": [
    "\"\"\"\n",
    "TASKS: \n",
    "1. write a function which will try to find out len of a string without using an inbuilt len function \n",
    "2. write a function which  will be able to print an index of list element without using an index function\n",
    "3. write a function which will be able to print an ip address of your system\n",
    "4. write a function which will shutdown your system\n",
    "5. write a function which will take input as a list with any kind of numeric value and give an out as a multiplication of \n",
    "all the numeric data l = [3.5, 6.56, 4,5,\"sudh\" , \"ineuron\" , 'fsda bootcamp 2.0']\n",
    "6. write a function which will be able to read all the mails \n",
    "7 . write a function which will be able to send a mail to anyone \n",
    "8. write a function which will be able to read a doc/word file from your system \n",
    "\n",
    "you are suppose to complete this by oct 30th before your \n",
    "live class and you have to send a solution at mail id - query@ineuron.ai\n",
    "submit your git link to mail \n",
    "\"\"\""
   ]
  },
  {
   "cell_type": "code",
   "execution_count": 3,
   "id": "81e229ad",
   "metadata": {},
   "outputs": [
    {
     "data": {
      "text/plain": [
       "3"
      ]
     },
     "execution_count": 3,
     "metadata": {},
     "output_type": "execute_result"
    }
   ],
   "source": [
    "def length(s:str)->int:\n",
    "    \"\"\"write a function which will try to find out len of a string without using an inbuilt len function \"\"\"\n",
    "    a = 0\n",
    "    for i in s:\n",
    "        a+=1\n",
    "    return a\n",
    "\n",
    "length(\"abc\")\n",
    "    "
   ]
  },
  {
   "cell_type": "code",
   "execution_count": 6,
   "id": "5c7324ef",
   "metadata": {},
   "outputs": [
    {
     "name": "stdout",
     "output_type": "stream",
     "text": [
      "4\t6\t-1\n"
     ]
    }
   ],
   "source": [
    "def index(lst:list,element) -> int:\n",
    "    \"\"\"write a function which  will be able to print an index of list element without using an index function\"\"\"\n",
    "    \n",
    "    for index,value in enumerate(lst):\n",
    "        if value == element:\n",
    "            return index\n",
    "    return -1\n",
    "\n",
    "lst = [1,2,3,4,5,6,\"Random name\"]\n",
    "\n",
    "print(f\"{index(lst,5)}\\t{index(lst,'Random name')}\\t{index(lst,100)}\")\n",
    "    "
   ]
  },
  {
   "cell_type": "code",
   "execution_count": 8,
   "id": "1ef2ca00",
   "metadata": {},
   "outputs": [
    {
     "data": {
      "text/plain": [
       "'Your Computer IP Address is: 192.168.29.62'"
      ]
     },
     "execution_count": 8,
     "metadata": {},
     "output_type": "execute_result"
    }
   ],
   "source": [
    "def get_id_address():\n",
    "    \"\"\"write a function which will be able to print an ip address of your system\"\"\"\n",
    "    import socket\n",
    "    hostname = socket.gethostname()\n",
    "    IPAddr = socket.gethostbyname(hostname)\n",
    "    return (f\"Your Computer IP Address is: {IPAddr}\" )\n",
    "\n",
    "get_id_address()"
   ]
  },
  {
   "cell_type": "code",
   "execution_count": 9,
   "id": "95c417e2",
   "metadata": {},
   "outputs": [],
   "source": [
    "def shut_down():\n",
    "    \"\"\"write a function which will shutdown your system\"\"\"\n",
    "    import os\n",
    "    os.system(\"shutdown /s /t 1\")\n",
    "\n"
   ]
  },
  {
   "cell_type": "code",
   "execution_count": 10,
   "id": "bab9cae6",
   "metadata": {},
   "outputs": [
    {
     "data": {
      "text/plain": [
       "459.19999999999993"
      ]
     },
     "execution_count": 10,
     "metadata": {},
     "output_type": "execute_result"
    }
   ],
   "source": [
    "l = [3.5, 6.56, 4,5,\"sudh\" , \"ineuron\" , 'fsda bootcamp 2.0']\n",
    "def multiply(lst:list) -> int:\n",
    "    \"\"\"\n",
    "    write a function which will take input as a list with any kind of numeric value and give an out as a multiplication of \n",
    "    all the numeric data\n",
    "    \"\"\"\n",
    "    mult = 1\n",
    "    for i in lst:\n",
    "        if type(i) == int or type(i) == float:\n",
    "            mult *= i\n",
    "    return mult\n",
    "multiply(l)"
   ]
  },
  {
   "cell_type": "code",
   "execution_count": null,
   "id": "1be5cd93",
   "metadata": {},
   "outputs": [],
   "source": []
  }
 ],
 "metadata": {
  "kernelspec": {
   "display_name": "Python 3 (ipykernel)",
   "language": "python",
   "name": "python3"
  },
  "language_info": {
   "codemirror_mode": {
    "name": "ipython",
    "version": 3
   },
   "file_extension": ".py",
   "mimetype": "text/x-python",
   "name": "python",
   "nbconvert_exporter": "python",
   "pygments_lexer": "ipython3",
   "version": "3.8.13"
  }
 },
 "nbformat": 4,
 "nbformat_minor": 5
}
